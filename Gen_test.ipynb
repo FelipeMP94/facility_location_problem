{
 "cells": [
  {
   "cell_type": "code",
   "execution_count": 1,
   "id": "d67fa311",
   "metadata": {},
   "outputs": [],
   "source": [
    "from TSCFLP_instance import TSCFLPinstance\n",
    "from TSCFLP_greedy_decoder import greedy_decoder\n",
    "import torch\n",
    "import torch.nn as nn"
   ]
  },
  {
   "cell_type": "code",
   "execution_count": 2,
   "id": "189f42f4",
   "metadata": {},
   "outputs": [],
   "source": [
    "class Generator(nn.Module):\n",
    "    def __init__(self,I,J):\n",
    "        super().__init__()\n",
    "        self.rede = nn.Sequential(\n",
    "            nn.Linear(I+J,200),\n",
    "            nn.ReLU(),\n",
    "            nn.Linear(200,300),\n",
    "            nn.ReLU(),\n",
    "            nn.Linear(300,300),\n",
    "            nn.ReLU(),\n",
    "            nn.Linear(300,I+J),\n",
    "            nn.Sigmoid()\n",
    "        )\n",
    "    def forward(self,ruido):\n",
    "        x = self.rede(ruido)\n",
    "        return x\n",
    "        \n",
    "        "
   ]
  },
  {
   "cell_type": "code",
   "execution_count": 3,
   "id": "7c69f32c",
   "metadata": {},
   "outputs": [],
   "source": [
    "model = Generator(50,100)"
   ]
  },
  {
   "cell_type": "code",
   "execution_count": 4,
   "id": "a58b56e2",
   "metadata": {},
   "outputs": [],
   "source": [
    "ruido = torch.rand((150))"
   ]
  },
  {
   "cell_type": "code",
   "execution_count": 5,
   "id": "4de2ea87",
   "metadata": {},
   "outputs": [],
   "source": [
    "test = model(ruido)"
   ]
  },
  {
   "cell_type": "code",
   "execution_count": 6,
   "id": "ef3d3e52",
   "metadata": {},
   "outputs": [
    {
     "name": "stdout",
     "output_type": "stream",
     "text": [
      "tensor([0.5121, 0.5123, 0.5072, 0.4964, 0.5217, 0.5022, 0.4930, 0.4820, 0.4904,\n",
      "        0.4990, 0.5013, 0.4911, 0.4929, 0.5177, 0.5034, 0.5110, 0.5066, 0.5213,\n",
      "        0.5149, 0.5120, 0.5010, 0.4923, 0.5016, 0.5135, 0.5011, 0.5271, 0.5030,\n",
      "        0.5021, 0.5093, 0.5197, 0.5048, 0.5021, 0.4924, 0.5057, 0.4736, 0.5047,\n",
      "        0.4954, 0.5071, 0.4916, 0.4994, 0.4774, 0.4839, 0.5042, 0.5001, 0.5044,\n",
      "        0.4955, 0.4824, 0.5062, 0.4971, 0.4951, 0.5209, 0.4791, 0.4870, 0.5129,\n",
      "        0.5231, 0.5088, 0.4906, 0.5138, 0.4759, 0.5017, 0.4846, 0.4984, 0.4999,\n",
      "        0.4955, 0.4958, 0.5066, 0.5210, 0.5049, 0.4971, 0.5018, 0.4924, 0.5104,\n",
      "        0.5209, 0.5103, 0.4811, 0.4999, 0.4896, 0.5068, 0.4909, 0.4865, 0.5101,\n",
      "        0.4935, 0.4695, 0.4991, 0.4845, 0.5105, 0.5076, 0.4825, 0.5089, 0.4956,\n",
      "        0.5031, 0.5114, 0.4994, 0.4956, 0.4975, 0.5298, 0.5125, 0.5075, 0.4859,\n",
      "        0.5010, 0.4846, 0.5010, 0.4819, 0.4985, 0.4908, 0.4703, 0.4970, 0.4913,\n",
      "        0.5176, 0.4920, 0.4986, 0.4864, 0.5189, 0.5019, 0.4926, 0.4887, 0.4958,\n",
      "        0.5091, 0.5126, 0.4944, 0.5131, 0.4998, 0.5124, 0.5047, 0.4782, 0.5188,\n",
      "        0.4831, 0.4883, 0.5126, 0.4958, 0.4885, 0.4896, 0.4898, 0.5080, 0.4992,\n",
      "        0.5025, 0.5176, 0.4776, 0.4909, 0.4888, 0.5069, 0.4905, 0.5005, 0.4960,\n",
      "        0.5200, 0.5011, 0.4975, 0.5071, 0.4942, 0.5047],\n",
      "       grad_fn=<SigmoidBackward0>)\n"
     ]
    }
   ],
   "source": [
    "print(test)"
   ]
  },
  {
   "cell_type": "code",
   "execution_count": 7,
   "id": "7a117685",
   "metadata": {},
   "outputs": [
    {
     "name": "stdout",
     "output_type": "stream",
     "text": [
      "tensor([0.2654, 0.2042, 0.0514, 0.6444, 0.5866, 0.0357, 0.0640, 0.7137, 0.3348,\n",
      "        0.7175, 0.6961, 0.2172, 0.8585, 0.6067, 0.2600, 0.7756, 0.6231, 0.6644,\n",
      "        0.0573, 0.4829, 0.1183, 0.4886, 0.8507, 0.6976, 0.3658, 0.0176, 0.5679,\n",
      "        0.9630, 0.7540, 0.4801, 0.6033, 0.8534, 0.9492, 0.6633, 0.5691, 0.4409,\n",
      "        0.9471, 0.6128, 0.9221, 0.6767, 0.8979, 0.6700, 0.9676, 0.7665, 0.8852,\n",
      "        0.7601, 0.9614, 0.3136, 0.4483, 0.5423, 0.6302, 0.2990, 0.6290, 0.4030,\n",
      "        0.7147, 0.9630, 0.1760, 0.3683, 0.5948, 0.1851, 0.1511, 0.5906, 0.9247,\n",
      "        0.7318, 0.5021, 0.5235, 0.2473, 0.6518, 0.7792, 0.3069, 0.2037, 0.9953,\n",
      "        0.8808, 0.9797, 0.1690, 0.9029, 0.4989, 0.6213, 0.6429, 0.7637, 0.7925,\n",
      "        0.1546, 0.7350, 0.7981, 0.8377, 0.3366, 0.6386, 0.4841, 0.5006, 0.6247,\n",
      "        0.0968, 0.9686, 0.6672, 0.9643, 0.4927, 0.0881, 0.2079, 0.3350, 0.5034,\n",
      "        0.6301, 0.6316, 0.4099, 0.3085, 0.8211, 0.4554, 0.3303, 0.1197, 0.5471,\n",
      "        0.5824, 0.0584, 0.4276, 0.5855, 0.3511, 0.1674, 0.8881, 0.0915, 0.9022,\n",
      "        0.9555, 0.5063, 0.1038, 0.3349, 0.4903, 0.8133, 0.9645, 0.7729, 0.4981,\n",
      "        0.8945, 0.2479, 0.6772, 0.2201, 0.0888, 0.1691, 0.4973, 0.2301, 0.5519,\n",
      "        0.1232, 0.9260, 0.2970, 0.8361, 0.6671, 0.9498, 0.2879, 0.1370, 0.8241,\n",
      "        0.3080, 0.9714, 0.8052, 0.6785, 0.0469, 0.8244])\n"
     ]
    }
   ],
   "source": [
    "print(ruido)"
   ]
  },
  {
   "cell_type": "code",
   "execution_count": 8,
   "id": "1893a28f",
   "metadata": {},
   "outputs": [],
   "source": [
    "instancia = TSCFLPinstance(r\"C:\\Users\\Felipe\\Projetos\\TSCFLP\\Instances\\PSC1-C1-50.txt\")\n",
    "decoder = greedy_decoder(instancia)"
   ]
  },
  {
   "cell_type": "code",
   "execution_count": 9,
   "id": "2ca35f68",
   "metadata": {},
   "outputs": [],
   "source": [
    "b = decoder.decode(ruido,rewrite=True)"
   ]
  },
  {
   "cell_type": "code",
   "execution_count": 10,
   "id": "090bb832",
   "metadata": {},
   "outputs": [
    {
     "name": "stdout",
     "output_type": "stream",
     "text": [
      "925922\n"
     ]
    }
   ],
   "source": [
    "print(b)"
   ]
  },
  {
   "cell_type": "code",
   "execution_count": null,
   "id": "2fb67228",
   "metadata": {},
   "outputs": [],
   "source": []
  }
 ],
 "metadata": {
  "kernelspec": {
   "display_name": "Python 3 (ipykernel)",
   "language": "python",
   "name": "python3"
  },
  "language_info": {
   "codemirror_mode": {
    "name": "ipython",
    "version": 3
   },
   "file_extension": ".py",
   "mimetype": "text/x-python",
   "name": "python",
   "nbconvert_exporter": "python",
   "pygments_lexer": "ipython3",
   "version": "3.11.5"
  }
 },
 "nbformat": 4,
 "nbformat_minor": 5
}
