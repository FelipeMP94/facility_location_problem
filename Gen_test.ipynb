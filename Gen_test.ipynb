{
 "cells": [
  {
   "cell_type": "code",
   "execution_count": 1,
   "id": "d67fa311",
   "metadata": {},
   "outputs": [],
   "source": [
    "from TSCFLP_instance import TSCFLPinstance\n",
    "from TSCFLP_greedy_decoder import greedy_decoder\n",
    "import torch\n",
    "import torch.nn as nn\n",
    "import numpy as np"
   ]
  },
  {
   "cell_type": "code",
   "execution_count": 2,
   "id": "189f42f4",
   "metadata": {},
   "outputs": [],
   "source": [
    "class Generator(nn.Module):\n",
    "    def __init__(self,I,J,population):\n",
    "        super().__init__()\n",
    "        self.population = population\n",
    "        self.rede = nn.Sequential(\n",
    "            nn.Linear(I+J,200),\n",
    "            nn.ReLU(),\n",
    "            nn.Linear(200,300),\n",
    "            nn.ReLU(),\n",
    "            nn.Linear(300,300),\n",
    "            nn.ReLU(),\n",
    "            nn.Linear(300,(I+J)*population),\n",
    "            nn.Sigmoid()\n",
    "        )\n",
    "    def forward(self,ruido):\n",
    "        x = self.rede(ruido)\n",
    "        x = torch.reshape(x,(self.population,150))\n",
    "        return x\n",
    "        \n",
    "        "
   ]
  },
  {
   "cell_type": "code",
   "execution_count": 3,
   "id": "c840e174",
   "metadata": {},
   "outputs": [],
   "source": [
    "class evaluate_population(nn.Module):\n",
    "    def __init__(self,decoder):\n",
    "        super(evaluate_population,self).__init__()\n",
    "        self.is_inicialized = False \n",
    "        self.decoder = decoder\n",
    "        self.best_fit = 0\n",
    "        self.mean_current_pop= 0\n",
    "        self.epochs_best_fit = []\n",
    "        self.epochs_mean_fit = []\n",
    "\n",
    "        \n",
    "    \n",
    "    def forward(self,population):\n",
    "        pop_individual_fit = np.array([],dtype=int)\n",
    "        for index,chromosome in enumerate(population):\n",
    "            fit = self.decoder.decode(chromosome,True)\n",
    "            pop_individual_fit = np.append(pop_individual_fit,fit)\n",
    "        \n",
    "        if self.is_inicialized == False:\n",
    "            self.best_fit = np.min(pop_individual_fit)\n",
    "            self.epochs_best_fit.append(self.best_fit)\n",
    "            \n",
    "            pop_mean = np.mean(pop_individual_fit)\n",
    "            self.mean_current_pop = pop_mean\n",
    "            self.epochs_mean_fit.append(pop_mean)\n",
    "            \n",
    "            x = torch.tensor([-(self.best_fit-pop_mean)])\n",
    "            loss = np.exp(torch.tanh(x))\n",
    "            self.is_inicialized = True\n",
    "        else:\n",
    "            pop_mean = np.mean(pop_individual_fit)\n",
    "            self.mean_current_pop = pop_mean\n",
    "            self.epochs_mean_fit.append(pop_mean)\n",
    "            \n",
    "            x = torch.tensor([-(self.best_fit-pop_mean)])\n",
    "            loss = np.exp(torch.tanh(x))\n",
    "            best_individual_fit = np.min(pop_individual_fit)\n",
    "                          \n",
    "            if best_individual_fit < self.best_fit:\n",
    "                self.best_fit = best_individual_fit\n",
    "                \n",
    "                 \n",
    "        return loss"
   ]
  },
  {
   "cell_type": "code",
   "execution_count": 4,
   "id": "1893a28f",
   "metadata": {},
   "outputs": [],
   "source": [
    "model = Generator(50,100,200)\n",
    "instancia = TSCFLPinstance(r\"C:\\Users\\Felipe\\Projetos\\TSCFLP\\Instances\\PSC1-C1-50.txt\")\n",
    "decoder = greedy_decoder(instancia)\n",
    "evaluator = evaluate_population(decoder)\n",
    "lr = 0.01\n",
    "optimizer = torch.optim.SGD(model.parameters(),lr=lr)\n",
    "Epochs = 100"
   ]
  },
  {
   "cell_type": "code",
   "execution_count": 5,
   "id": "2ca35f68",
   "metadata": {},
   "outputs": [],
   "source": [
    "def train_loop(model,evaluator,optimizer,Epochs):\n",
    "    epochs_loss = []\n",
    "    \n",
    "    \n",
    "    for epoch in range(Epochs):\n",
    "        ruido = torch.rand(150)\n",
    "        population = model(ruido)\n",
    "            \n",
    "        optimizer.zero_grad()\n",
    "        loss = evaluator(population)\n",
    "        loss.requires_grad_()\n",
    "        \n",
    "        loss.backward()\n",
    "        \n",
    "        optimizer.step()\n",
    "        epochs_loss.append(loss.item())\n",
    "        \n",
    "        if epoch%10==0:\n",
    "            print(f'Melhor individuo:{evaluator.best_fit} Média da população: {evaluator.mean_current_pop}')\n",
    "    return epochs_loss,evaluator"
   ]
  },
  {
   "cell_type": "code",
   "execution_count": 6,
   "id": "6aa77249",
   "metadata": {},
   "outputs": [
    {
     "name": "stdout",
     "output_type": "stream",
     "text": [
      "Melhor individuo:877203 Média da população: 944017.185\n",
      "Melhor individuo:863398 Média da população: 944213.98\n",
      "Melhor individuo:863363 Média da população: 945421.995\n",
      "Melhor individuo:863363 Média da população: 942512.63\n",
      "Melhor individuo:854337 Média da população: 942919.67\n",
      "Melhor individuo:854337 Média da população: 944105.615\n",
      "Melhor individuo:854337 Média da população: 944347.685\n",
      "Melhor individuo:854337 Média da população: 943992.53\n",
      "Melhor individuo:854337 Média da população: 945902.305\n",
      "Melhor individuo:854337 Média da população: 944979.075\n"
     ]
    }
   ],
   "source": [
    "loss,evaluete =  train_loop(model,evaluator,optimizer,Epochs)"
   ]
  },
  {
   "cell_type": "code",
   "execution_count": 9,
   "id": "a92db075",
   "metadata": {},
   "outputs": [
    {
     "name": "stdout",
     "output_type": "stream",
     "text": [
      "[2.718281828459045, 2.718281828459045, 2.718281828459045, 2.718281828459045, 2.718281828459045, 2.718281828459045, 2.718281828459045, 2.718281828459045, 2.718281828459045, 2.718281828459045, 2.718281828459045, 2.718281828459045, 2.718281828459045, 2.718281828459045, 2.718281828459045, 2.718281828459045, 2.718281828459045, 2.718281828459045, 2.718281828459045, 2.718281828459045, 2.718281828459045, 2.718281828459045, 2.718281828459045, 2.718281828459045, 2.718281828459045, 2.718281828459045, 2.718281828459045, 2.718281828459045, 2.718281828459045, 2.718281828459045, 2.718281828459045, 2.718281828459045, 2.718281828459045, 2.718281828459045, 2.718281828459045, 2.718281828459045, 2.718281828459045, 2.718281828459045, 2.718281828459045, 2.718281828459045, 2.718281828459045, 2.718281828459045, 2.718281828459045, 2.718281828459045, 2.718281828459045, 2.718281828459045, 2.718281828459045, 2.718281828459045, 2.718281828459045, 2.718281828459045, 2.718281828459045, 2.718281828459045, 2.718281828459045, 2.718281828459045, 2.718281828459045, 2.718281828459045, 2.718281828459045, 2.718281828459045, 2.718281828459045, 2.718281828459045, 2.718281828459045, 2.718281828459045, 2.718281828459045, 2.718281828459045, 2.718281828459045, 2.718281828459045, 2.718281828459045, 2.718281828459045, 2.718281828459045, 2.718281828459045, 2.718281828459045, 2.718281828459045, 2.718281828459045, 2.718281828459045, 2.718281828459045, 2.718281828459045, 2.718281828459045, 2.718281828459045, 2.718281828459045, 2.718281828459045, 2.718281828459045, 2.718281828459045, 2.718281828459045, 2.718281828459045, 2.718281828459045, 2.718281828459045, 2.718281828459045, 2.718281828459045, 2.718281828459045, 2.718281828459045, 2.718281828459045, 2.718281828459045, 2.718281828459045, 2.718281828459045, 2.718281828459045, 2.718281828459045, 2.718281828459045, 2.718281828459045, 2.718281828459045, 2.718281828459045]\n"
     ]
    }
   ],
   "source": [
    "print(loss)"
   ]
  },
  {
   "cell_type": "code",
   "execution_count": 8,
   "id": "44be1a68",
   "metadata": {},
   "outputs": [
    {
     "data": {
      "text/plain": [
       "[<matplotlib.lines.Line2D at 0x231f3483e50>]"
      ]
     },
     "execution_count": 8,
     "metadata": {},
     "output_type": "execute_result"
    },
    {
     "data": {
      "image/png": "[encoded data removed]",
      "text/plain": [
       "<Figure size 640x480 with 1 Axes>"
      ]
     },
     "metadata": {},
     "output_type": "display_data"
    }
   ],
   "source": [
    "import matplotlib.pyplot as plt\n",
    "plt.plot(loss)"
   ]
  },
  {
   "cell_type": "code",
   "execution_count": null,
   "id": "23e0c6fb",
   "metadata": {},
   "outputs": [],
   "source": []
  }
 ],
 "metadata": {
  "kernelspec": {
   "display_name": "Python 3 (ipykernel)",
   "language": "python",
   "name": "python3"
  },
  "language_info": {
   "codemirror_mode": {
    "name": "ipython",
    "version": 3
   },
   "file_extension": ".py",
   "mimetype": "text/x-python",
   "name": "python",
   "nbconvert_exporter": "python",
   "pygments_lexer": "ipython3",
   "version": "3.11.5"
  }
 },
 "nbformat": 4,
 "nbformat_minor": 5
}
