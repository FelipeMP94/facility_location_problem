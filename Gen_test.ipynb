{
 "cells": [
  {
   "cell_type": "code",
   "execution_count": 1,
   "id": "d67fa311",
   "metadata": {},
   "outputs": [],
   "source": [
    "from TSCFLP_instance import TSCFLPinstance\n",
    "from TSCFLP_greedy_decoder import greedy_decoder\n",
    "import torch\n",
    "import torch.nn as nn\n",
    "import numpy as np"
   ]
  },
  {
   "cell_type": "code",
   "execution_count": 2,
   "id": "189f42f4",
   "metadata": {},
   "outputs": [],
   "source": [
    "class Generator(nn.Module):\n",
    "    def __init__(self,I,J,population):\n",
    "        super().__init__()\n",
    "        self.population = population\n",
    "        self.rede = nn.Sequential(\n",
    "            nn.Linear(I+J,200),\n",
    "            nn.ReLU(),\n",
    "            nn.Linear(200,300),\n",
    "            nn.ReLU(),\n",
    "            nn.Linear(300,300),\n",
    "            nn.ReLU(),\n",
    "            nn.Linear(300,(I+J)*population),\n",
    "            nn.Sigmoid()\n",
    "        )\n",
    "    def forward(self,ruido):\n",
    "        x = self.rede(ruido)\n",
    "        x = torch.reshape(x,(self.population,150))\n",
    "        return x\n",
    "        \n",
    "        "
   ]
  },
  {
   "cell_type": "code",
   "execution_count": 3,
   "id": "d67e20b7",
   "metadata": {},
   "outputs": [],
   "source": [
    "class evaluate_population():\n",
    "    def __init__(self,decoder):\n",
    "        self.is_inicialized = False \n",
    "        self.decoder = decoder\n",
    "        self.best_fit = 0\n",
    "        self.best_chromosome = 0\n",
    "        self.mean_last_pop = 0\n",
    "    \n",
    "\n",
    "    def evaluate_pop(self,population):\n",
    "        pop_individual_fit = np.array([],dtype=int)\n",
    "        for index,chromosome in enumerate(population):\n",
    "            fit = self.decoder.decode(chromosome,True)\n",
    "            pop_individual_fit = np.append(pop_individual_fit,fit)\n",
    "        \n",
    "        if self.is_inicialized == False:\n",
    "            self.best_fit = np.min(pop_individual_fit)\n",
    "            pop_mean = np.mean(pop_individual_fit)\n",
    "            self.mean_last_pop = pop_mean\n",
    "            x = torch.tensor([-(self.best_fit-pop_mean)])\n",
    "            loss = np.exp(torch.tanh(x))\n",
    "            self.is_inicialized = True\n",
    "        else:\n",
    "            pop_mean = np.mean(pop_individual_fit)\n",
    "            x = torch.tensor([-(self.best_fit-pop_mean)])\n",
    "            loss = np.exp(torch.tanh(x))\n",
    "            max_individual_fit = np.max(pop_individual_fit)\n",
    "                          \n",
    "            if max_individual_fit > self.best_fit:\n",
    "                self.best_fit = max_individual_fit\n",
    "                \n",
    "                 \n",
    "        return loss\n",
    "            \n",
    "       \n",
    "        \n",
    "        \n",
    "        \n",
    "        \n",
    "        "
   ]
  },
  {
   "cell_type": "code",
   "execution_count": 4,
   "id": "7c69f32c",
   "metadata": {},
   "outputs": [],
   "source": [
    "model = Generator(50,100,200)"
   ]
  },
  {
   "cell_type": "code",
   "execution_count": 5,
   "id": "a58b56e2",
   "metadata": {},
   "outputs": [],
   "source": [
    "ruido = torch.rand((150))"
   ]
  },
  {
   "cell_type": "code",
   "execution_count": 6,
   "id": "4de2ea87",
   "metadata": {},
   "outputs": [],
   "source": [
    "test = model(ruido)"
   ]
  },
  {
   "cell_type": "code",
   "execution_count": 7,
   "id": "9ab564d1",
   "metadata": {},
   "outputs": [
    {
     "name": "stdout",
     "output_type": "stream",
     "text": [
      "200\n"
     ]
    }
   ],
   "source": [
    "print(len(test))"
   ]
  },
  {
   "cell_type": "code",
   "execution_count": 8,
   "id": "dabc9b16",
   "metadata": {},
   "outputs": [
    {
     "data": {
      "text/plain": [
       "torch.Size([200, 150])"
      ]
     },
     "execution_count": 8,
     "metadata": {},
     "output_type": "execute_result"
    }
   ],
   "source": [
    "test.shape"
   ]
  },
  {
   "cell_type": "code",
   "execution_count": 9,
   "id": "1893a28f",
   "metadata": {},
   "outputs": [],
   "source": [
    "instancia = TSCFLPinstance(r\"C:\\Users\\Felipe\\Projetos\\TSCFLP\\Instances\\PSC1-C1-50.txt\")\n",
    "decoder = greedy_decoder(instancia)\n",
    "evaluator = evaluate_population(decoder)"
   ]
  },
  {
   "cell_type": "code",
   "execution_count": 10,
   "id": "2ca35f68",
   "metadata": {},
   "outputs": [],
   "source": [
    "loss = evaluator.evaluate_pop(test)"
   ]
  },
  {
   "cell_type": "code",
   "execution_count": 11,
   "id": "2fb67228",
   "metadata": {},
   "outputs": [
    {
     "name": "stdout",
     "output_type": "stream",
     "text": [
      "tensor([2.7183], dtype=torch.float64)\n"
     ]
    }
   ],
   "source": [
    "print(loss)"
   ]
  },
  {
   "cell_type": "code",
   "execution_count": 12,
   "id": "70724ab5",
   "metadata": {},
   "outputs": [
    {
     "name": "stdout",
     "output_type": "stream",
     "text": [
      "850268\n"
     ]
    }
   ],
   "source": [
    "print(evaluator.best_fit)"
   ]
  },
  {
   "cell_type": "code",
   "execution_count": 13,
   "id": "a50f90d9",
   "metadata": {},
   "outputs": [
    {
     "name": "stdout",
     "output_type": "stream",
     "text": [
      "941422.695\n"
     ]
    }
   ],
   "source": [
    "print(evaluator.mean_last_pop)"
   ]
  },
  {
   "cell_type": "code",
   "execution_count": null,
   "id": "1204f954",
   "metadata": {},
   "outputs": [],
   "source": []
  }
 ],
 "metadata": {
  "kernelspec": {
   "display_name": "Python 3 (ipykernel)",
   "language": "python",
   "name": "python3"
  },
  "language_info": {
   "codemirror_mode": {
    "name": "ipython",
    "version": 3
   },
   "file_extension": ".py",
   "mimetype": "text/x-python",
   "name": "python",
   "nbconvert_exporter": "python",
   "pygments_lexer": "ipython3",
   "version": "3.11.5"
  }
 },
 "nbformat": 4,
 "nbformat_minor": 5
}
