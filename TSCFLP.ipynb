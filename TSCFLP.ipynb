{
 "cells": [
  {
   "cell_type": "code",
   "execution_count": 1,
   "id": "2d8d891f",
   "metadata": {},
   "outputs": [],
   "source": [
    "from FA_brkga_mp_ipr.enums import Sense,ParsingEnum\n",
    "from FA_brkga_mp_ipr.types_io import load_configuration\n",
    "from FA_brkga_mp_ipr.algorithm import BrkgaMpIpr\n",
    "from FA_brkga_mp_ipr.types import BrkgaParams\n",
    "import numpy as np\n",
    "from TSCFLP_instance import TSCFLPinstance\n",
    "from TSCFLP_decoder_gurobi import solver_decoder\n",
    "from aproximation_decoders import ELM_decoder,Gradient_Boosting_decoder\n"
   ]
  },
  {
   "cell_type": "code",
   "execution_count": 2,
   "id": "cf4bf7a5",
   "metadata": {},
   "outputs": [],
   "source": [
    "\n",
    "instancia = TSCFLPinstance(r\"C:\\Users\\Felipe\\Projetos\\TSCFLP\\Instances\\PSC1-C1-50.txt\")\n",
    "decoder = solver_decoder(instancia)\n",
    "brkga_params,_ = load_configuration(r\"C:\\Users\\Felipe\\Projetos\\TSCFLP\\Configuracao BRKGA\\config.conf\")\n",
    "seed = 21\n",
    "chromosome_size = instancia.parameters[0] + instancia.parameters[1]\n",
    "apr_deco = ELM_decoder(instancia)\n"
   ]
  },
  {
   "cell_type": "code",
   "execution_count": 3,
   "id": "9a2ccef4",
   "metadata": {},
   "outputs": [],
   "source": [
    "  brkga = BrkgaMpIpr(\n",
    "        decoder=decoder,\n",
    "        sense=Sense.MINIMIZE,\n",
    "        seed=seed,\n",
    "        chromosome_size=chromosome_size,\n",
    "        params=brkga_params,\n",
    "        evolutionary_mechanism_on= 1,\n",
    "        aproximation_decoder = apr_deco\n",
    "    )\n"
   ]
  },
  {
   "cell_type": "code",
   "execution_count": 4,
   "id": "dd2fd59a",
   "metadata": {},
   "outputs": [
    {
     "name": "stdout",
     "output_type": "stream",
     "text": [
      "Set parameter Username\n",
      "Academic license - for non-commercial use only - expires 2024-10-29\n"
     ]
    },
    {
     "ename": "KeyboardInterrupt",
     "evalue": "",
     "output_type": "error",
     "traceback": [
      "\u001b[1;31m---------------------------------------------------------------------------\u001b[0m",
      "\u001b[1;31mKeyboardInterrupt\u001b[0m                         Traceback (most recent call last)",
      "Cell \u001b[1;32mIn[4], line 1\u001b[0m\n\u001b[1;32m----> 1\u001b[0m brkga\u001b[38;5;241m.\u001b[39minitialize()\n",
      "File \u001b[1;32m~\\Projetos\\TSCFLP\\FA_brkga_mp_ipr\\algorithm.py:434\u001b[0m, in \u001b[0;36mBrkgaMpIpr.initialize\u001b[1;34m(self)\u001b[0m\n\u001b[0;32m    432\u001b[0m \u001b[38;5;28;01mfor\u001b[39;00m population \u001b[38;5;129;01min\u001b[39;00m \u001b[38;5;28mself\u001b[39m\u001b[38;5;241m.\u001b[39m_current_populations:\n\u001b[0;32m    433\u001b[0m     \u001b[38;5;28;01mfor\u001b[39;00m i, chromosome \u001b[38;5;129;01min\u001b[39;00m \u001b[38;5;28menumerate\u001b[39m(population\u001b[38;5;241m.\u001b[39mchromosomes):\n\u001b[1;32m--> 434\u001b[0m         value \u001b[38;5;241m=\u001b[39m \u001b[38;5;28mself\u001b[39m\u001b[38;5;241m.\u001b[39m_decoder\u001b[38;5;241m.\u001b[39mdecode(chromosome\u001b[38;5;241m=\u001b[39mchromosome,\n\u001b[0;32m    435\u001b[0m                                      rewrite\u001b[38;5;241m=\u001b[39m\u001b[38;5;28;01mTrue\u001b[39;00m)\n\u001b[0;32m    436\u001b[0m         population\u001b[38;5;241m.\u001b[39mfitness[i] \u001b[38;5;241m=\u001b[39m (value, i)\n\u001b[0;32m    437\u001b[0m     population\u001b[38;5;241m.\u001b[39mfitness\u001b[38;5;241m.\u001b[39msort(reverse\u001b[38;5;241m=\u001b[39m(\u001b[38;5;28mself\u001b[39m\u001b[38;5;241m.\u001b[39mopt_sense \u001b[38;5;241m==\u001b[39m Sense\u001b[38;5;241m.\u001b[39mMAXIMIZE))\n",
      "File \u001b[1;32m~\\Projetos\\TSCFLP\\TSCFLP_decoder_gurobi.py:96\u001b[0m, in \u001b[0;36msolver_decoder.decode\u001b[1;34m(self, chromosome, rewrite)\u001b[0m\n\u001b[0;32m     93\u001b[0m \u001b[38;5;66;03m#Restrição capacidade dos depositos\u001b[39;00m\n\u001b[0;32m     94\u001b[0m c4 \u001b[38;5;241m=\u001b[39m m\u001b[38;5;241m.\u001b[39maddConstrs((gb\u001b[38;5;241m.\u001b[39mquicksum(sjk[j,k] \u001b[38;5;28;01mfor\u001b[39;00m k \u001b[38;5;129;01min\u001b[39;00m np\u001b[38;5;241m.\u001b[39marange(K))\u001b[38;5;241m<\u001b[39m\u001b[38;5;241m=\u001b[39m \u001b[38;5;28mself\u001b[39m\u001b[38;5;241m.\u001b[39m instance\u001b[38;5;241m.\u001b[39mstelite_capacity[j] \u001b[38;5;241m*\u001b[39m zj[j]) \u001b[38;5;28;01mfor\u001b[39;00m j \u001b[38;5;129;01min\u001b[39;00m depositos_escolhidos)\n\u001b[1;32m---> 96\u001b[0m m\u001b[38;5;241m.\u001b[39moptimize()\n\u001b[0;32m     97\u001b[0m \u001b[38;5;28;01mif\u001b[39;00m m\u001b[38;5;241m.\u001b[39mSolCount \u001b[38;5;241m>\u001b[39m\u001b[38;5;241m=\u001b[39m \u001b[38;5;241m1\u001b[39m:\n\u001b[0;32m     98\u001b[0m     ret \u001b[38;5;241m=\u001b[39m m\u001b[38;5;241m.\u001b[39mObjVal\n",
      "\u001b[1;31mKeyboardInterrupt\u001b[0m: "
     ]
    }
   ],
   "source": [
    "brkga.initialize()"
   ]
  },
  {
   "cell_type": "code",
   "execution_count": null,
   "id": "3fab094b",
   "metadata": {},
   "outputs": [],
   "source": [
    "a = brkga.get_current_population(0)"
   ]
  },
  {
   "cell_type": "code",
   "execution_count": null,
   "id": "28614e76",
   "metadata": {},
   "outputs": [],
   "source": [
    "print(f'População inicila: {a.fitness}')"
   ]
  },
  {
   "cell_type": "code",
   "execution_count": null,
   "id": "ee857c31",
   "metadata": {},
   "outputs": [],
   "source": []
  },
  {
   "cell_type": "code",
   "execution_count": null,
   "id": "48b8919d",
   "metadata": {},
   "outputs": [],
   "source": [
    "    from datetime import datetime\n",
    "    import time\n",
    "    print(f\"\\n[{datetime.now()}] Evolving...\")\n",
    "    print(\" Iteration | Cost | CurrentTime\")\n",
    "    \n",
    "    best_cost = brkga.get_best_fitness()\n",
    "    best_chromosome = brkga.get_best_chromosome()\n",
    "    \n",
    "\n",
    "\n",
    "\n",
    "    iteration = 0\n",
    "    last_update_time = 0.0\n",
    "    last_update_iteration = 0\n",
    "    large_offset = 0\n",
    "\n",
    "    run = True\n",
    "\n",
    "\n",
    "    start_time = time.time()\n",
    "    while run:\n",
    "        iteration += 1\n",
    "        \n",
    "\n",
    "        # Evolves one iteration.\n",
    "        brkga.evolve()\n",
    "\n",
    "        # Checks the current results and holds the best.\n",
    "        fitness = brkga.get_best_fitness()\n",
    "        print(f'Melhor individuo {fitness}')\n",
    "        if fitness < best_cost:\n",
    "            last_update_time = time.time() - start_time\n",
    "            update_offset = iteration - last_update_iteration\n",
    "\n",
    "            if large_offset < update_offset:\n",
    "                large_offset = update_offset\n",
    "\n",
    "            last_update_iteration = iteration\n",
    "            best_cost = fitness\n",
    "            best_chromosome = brkga.get_best_chromosome()\n",
    "\n",
    "            print(f\" {iteration} | {best_cost} | {last_update_time}\")\n",
    "        # end if\n",
    "\n",
    "    \n",
    "        iter_without_improvement = iteration - last_update_iteration\n",
    "\n",
    "        # Check stop criteria.\n",
    "        run = not (\n",
    "   \n",
    "            ( iteration == 40)\n",
    "            or\n",
    "            (iter_without_improvement >= 5)\n",
    "        )\n",
    "    # end while\n",
    "    total_elapsed_time = time.time() - start_time\n",
    "    total_num_iterations = iteration\n",
    "\n",
    "    print(f\"[{datetime.now()}] End of optimization\\n\")\n",
    "\n",
    "    print(f\"Total number of iterations: {total_num_iterations}\")\n",
    "    print(f\"Last update iteration: {last_update_iteration}\")\n",
    "    print(f\"Total optimization time: {total_elapsed_time:.2f}\")\n",
    "    print(f\"Last update time: {last_update_time:.2f}\")\n",
    "    print(f\"Large number of iterations between improvements: {large_offset}\")\n",
    "    \n"
   ]
  },
  {
   "cell_type": "code",
   "execution_count": null,
   "id": "df96791f",
   "metadata": {},
   "outputs": [],
   "source": [
    "ELM_class = brkga.aproximation_decoder"
   ]
  },
  {
   "cell_type": "code",
   "execution_count": null,
   "id": "0c00ad22",
   "metadata": {},
   "outputs": [],
   "source": [
    "M_ELM = ELM_class.ELM"
   ]
  },
  {
   "cell_type": "code",
   "execution_count": null,
   "id": "7e8f11f4",
   "metadata": {},
   "outputs": [],
   "source": [
    "predicted = M_ELM.predict(ELM_class.test_data[0])"
   ]
  },
  {
   "cell_type": "code",
   "execution_count": null,
   "id": "721c4801",
   "metadata": {},
   "outputs": [],
   "source": [
    "dif = []\n",
    "for i in np.arange(len(predicted)):\n",
    "    v = ELM_class.test_data[1][i] - predicted[i]\n",
    "    dif.append(v)"
   ]
  },
  {
   "cell_type": "code",
   "execution_count": null,
   "id": "30f02f57",
   "metadata": {},
   "outputs": [],
   "source": []
  },
  {
   "cell_type": "code",
   "execution_count": null,
   "id": "00cdd1b0",
   "metadata": {},
   "outputs": [],
   "source": [
    "import pandas as pd\n",
    "df = pd.DataFrame(data=(ELM_class.test_data[1],predicted,dif))"
   ]
  },
  {
   "cell_type": "code",
   "execution_count": null,
   "id": "6640d7bf",
   "metadata": {},
   "outputs": [],
   "source": [
    "df.head()"
   ]
  },
  {
   "cell_type": "code",
   "execution_count": null,
   "id": "764a1506",
   "metadata": {},
   "outputs": [],
   "source": [
    "print(np.shape(predicted))"
   ]
  },
  {
   "cell_type": "code",
   "execution_count": null,
   "id": "aa67694e",
   "metadata": {},
   "outputs": [],
   "source": [
    "print(a.fitness)"
   ]
  },
  {
   "cell_type": "code",
   "execution_count": null,
   "id": "5157ece4",
   "metadata": {},
   "outputs": [],
   "source": [
    "print(a)"
   ]
  },
  {
   "cell_type": "code",
   "execution_count": null,
   "id": "6d9dd9e3",
   "metadata": {},
   "outputs": [],
   "source": []
  },
  {
   "cell_type": "code",
   "execution_count": null,
   "id": "770d3cf0",
   "metadata": {},
   "outputs": [],
   "source": []
  },
  {
   "cell_type": "code",
   "execution_count": null,
   "id": "b5335898",
   "metadata": {},
   "outputs": [],
   "source": [
    "a =[3,2,1]\n",
    "b = a.sort()"
   ]
  }
 ],
 "metadata": {
  "kernelspec": {
   "display_name": "Python 3 (ipykernel)",
   "language": "python",
   "name": "python3"
  },
  "language_info": {
   "codemirror_mode": {
    "name": "ipython",
    "version": 3
   },
   "file_extension": ".py",
   "mimetype": "text/x-python",
   "name": "python",
   "nbconvert_exporter": "python",
   "pygments_lexer": "ipython3",
   "version": "3.11.5"
  }
 },
 "nbformat": 4,
 "nbformat_minor": 5
}
