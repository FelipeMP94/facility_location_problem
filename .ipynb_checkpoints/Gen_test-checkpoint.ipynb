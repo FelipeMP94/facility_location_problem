{
 "cells": [
  {
   "cell_type": "code",
   "execution_count": 1,
   "id": "d67fa311",
   "metadata": {},
   "outputs": [],
   "source": [
    "from TSCFLP_instance import TSCFLPinstance\n",
    "from TSCFLP_greedy_decoder import greedy_decoder\n",
    "import torch\n",
    "import torch.nn as nn"
   ]
  },
  {
   "cell_type": "code",
   "execution_count": 9,
   "id": "189f42f4",
   "metadata": {},
   "outputs": [],
   "source": [
    "class Generator(nn.Module):\n",
    "    def __init__(self,I,J,population):\n",
    "        super().__init__()\n",
    "        self.rede = nn.Sequential(\n",
    "            nn.Linear(I+J,200),\n",
    "            nn.ReLU(),\n",
    "            nn.Linear(200,300),\n",
    "            nn.ReLU(),\n",
    "            nn.Linear(300,300),\n",
    "            nn.ReLU(),\n",
    "            nn.Linear(300,(I+J)*population),\n",
    "            nn.Sigmoid()\n",
    "        )\n",
    "    def forward(self,ruido):\n",
    "        x = self.rede(ruido)\n",
    "        return x\n",
    "        \n",
    "        "
   ]
  },
  {
   "cell_type": "code",
   "execution_count": 10,
   "id": "7c69f32c",
   "metadata": {},
   "outputs": [],
   "source": [
    "model = Generator(50,100,200)"
   ]
  },
  {
   "cell_type": "code",
   "execution_count": 11,
   "id": "a58b56e2",
   "metadata": {},
   "outputs": [],
   "source": [
    "ruido = torch.rand((150))"
   ]
  },
  {
   "cell_type": "code",
   "execution_count": 12,
   "id": "4de2ea87",
   "metadata": {},
   "outputs": [],
   "source": [
    "test = model(ruido)"
   ]
  },
  {
   "cell_type": "code",
   "execution_count": null,
   "id": "eeb99643",
   "metadata": {},
   "outputs": [],
   "source": [
    "print(len(test))"
   ]
  },
  {
   "cell_type": "code",
   "execution_count": null,
   "id": "1919a987",
   "metadata": {},
   "outputs": [],
   "source": []
  },
  {
   "cell_type": "code",
   "execution_count": 13,
   "id": "1893a28f",
   "metadata": {},
   "outputs": [],
   "source": [
    "instancia = TSCFLPinstance(r\"C:\\Users\\Felipe\\Projetos\\TSCFLP\\Instances\\PSC1-C1-50.txt\")\n",
    "decoder = greedy_decoder(instancia)"
   ]
  },
  {
   "cell_type": "code",
   "execution_count": 14,
   "id": "2ca35f68",
   "metadata": {},
   "outputs": [],
   "source": []
  },
  {
   "cell_type": "code",
   "execution_count": null,
   "id": "2fb67228",
   "metadata": {},
   "outputs": [],
   "source": []
  }
 ],
 "metadata": {
  "kernelspec": {
   "display_name": "Python 3 (ipykernel)",
   "language": "python",
   "name": "python3"
  },
  "language_info": {
   "codemirror_mode": {
    "name": "ipython",
    "version": 3
   },
   "file_extension": ".py",
   "mimetype": "text/x-python",
   "name": "python",
   "nbconvert_exporter": "python",
   "pygments_lexer": "ipython3",
   "version": "3.11.5"
  }
 },
 "nbformat": 4,
 "nbformat_minor": 5
}
